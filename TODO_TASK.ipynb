{
  "cells": [
    {
      "cell_type": "markdown",
      "metadata": {
        "id": "view-in-github",
        "colab_type": "text"
      },
      "source": [
        "<a href=\"https://colab.research.google.com/github/NAVEED261/python-todo/blob/main/TODO_TASK.ipynb\" target=\"_parent\"><img src=\"https://colab.research.google.com/assets/colab-badge.svg\" alt=\"Open In Colab\"/></a>"
      ]
    },
    {
      "cell_type": "code",
      "execution_count": null,
      "metadata": {
        "colab": {
          "background_save": true,
          "base_uri": "https://localhost:8080/"
        },
        "id": "eioCwdOLMOWJ",
        "outputId": "3da8d67e-b5af-4121-ff1c-8f137e18ed22"
      },
      "outputs": [
        {
          "metadata": {
            "tags": null
          },
          "name": "stdout",
          "output_type": "stream",
          "text": [
            "Drive already mounted at /content/drive; to attempt to forcibly remount, call drive.mount(\"/content/drive\", force_remount=True).\n",
            "\n",
            "Todo App Menu:\n",
            "1. Display tasks\n",
            "2. Add a task\n",
            "3. Delete a task\n",
            "4. Exit\n"
          ]
        }
      ],
      "source": [
        "# Step 1: Mount Google Drive\n",
        "from google.colab import drive\n",
        "drive.mount('/content/drive')\n",
        "\n",
        "# Path to the file where tasks will be saved\n",
        "task_file_path = '/content/drive/MyDrive/todo_tasks.txt'\n",
        "\n",
        "# Step 2: Function to load tasks from the file\n",
        "def load_tasks():\n",
        "    try:\n",
        "        with open(task_file_path, 'r') as file:\n",
        "            loaded_tasks = file.readlines()\n",
        "            return [task.strip() for task in loaded_tasks]\n",
        "    except FileNotFoundError:\n",
        "        # If file doesn't exist, return an empty list\n",
        "        return []\n",
        "\n",
        "# Step 3: Function to save tasks to the file\n",
        "def save_tasks():\n",
        "    with open(task_file_path, 'w') as file:\n",
        "        for task in tasks:\n",
        "            file.write(task + '\\n')\n",
        "\n",
        "# Step 4: Create an empty list to store tasks, or load from file\n",
        "tasks = load_tasks()\n",
        "\n",
        "# Step 5: Function to display tasks\n",
        "def display_tasks():\n",
        "    if len(tasks) == 0:\n",
        "        print(\"No tasks available.\")\n",
        "    else:\n",
        "        print(\"\\nHere are your tasks:\")\n",
        "        for index, task in enumerate(tasks, 1):\n",
        "            print(f\"{index}. {task}\")\n",
        "\n",
        "# Step 6: Function to add a task\n",
        "def add_task():\n",
        "    task = input(\"Enter a new task: \")\n",
        "    tasks.append(task)\n",
        "    save_tasks()  # Save tasks after adding\n",
        "    print(f\"Task '{task}' has been added.\")\n",
        "\n",
        "# Step 7: Function to delete a task\n",
        "def delete_task():\n",
        "    display_tasks()\n",
        "    task_num = int(input(\"Enter the task number to delete: \")) - 1\n",
        "    if 0 <= task_num < len(tasks):\n",
        "        removed_task = tasks.pop(task_num)\n",
        "        save_tasks()  # Save tasks after deleting\n",
        "        print(f\"Task '{removed_task}' has been deleted.\")\n",
        "    else:\n",
        "        print(\"Invalid task number.\")\n",
        "\n",
        "# Step 8: Function to show the menu\n",
        "def show_menu():\n",
        "    print(\"\\nTodo App Menu:\")\n",
        "    print(\"1. Display tasks\")\n",
        "    print(\"2. Add a task\")\n",
        "    print(\"3. Delete a task\")\n",
        "    print(\"4. Exit\")\n",
        "\n",
        "# Step 9: Main loop to interact with the user\n",
        "while True:\n",
        "    show_menu()\n",
        "    choice = input(\"Choose an option (1-4): \")\n",
        "\n",
        "    if choice == '1':\n",
        "        display_tasks()\n",
        "    elif choice == '2':\n",
        "        add_task()\n",
        "    elif choice == '3':\n",
        "        delete_task()\n",
        "    elif choice == '4':\n",
        "        print(\"Exiting Todo App. Goodbye!\")\n",
        "        break\n",
        "    else:\n",
        "        print(\"Invalid choice. Please select a valid option.\")\n"
      ]
    },
    {
      "cell_type": "markdown",
      "metadata": {
        "id": "6rP3ilLxSY19"
      },
      "source": []
    },
    {
      "cell_type": "code",
      "execution_count": null,
      "metadata": {
        "id": "Q3Ku6Pf8SbXd"
      },
      "outputs": [],
      "source": []
    }
  ],
  "metadata": {
    "accelerator": "GPU",
    "colab": {
      "gpuType": "T4",
      "provenance": [],
      "toc_visible": true,
      "mount_file_id": "1q33GuYUNeg_qBxsFdJipIIQTj4P64kXO",
      "authorship_tag": "ABX9TyNh0Q+xJmAHXi7Mib2pCwl6",
      "include_colab_link": true
    },
    "kernelspec": {
      "display_name": "Python 3",
      "name": "python3"
    },
    "language_info": {
      "name": "python"
    }
  },
  "nbformat": 4,
  "nbformat_minor": 0
}